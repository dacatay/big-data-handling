{
 "cells": [
  {
   "cell_type": "markdown",
   "metadata": {},
   "source": [
    "# Pandas und schrittweise einlesen"
   ]
  },
  {
   "cell_type": "markdown",
   "metadata": {},
   "source": [
    "Einlesen von Unstrukturierten Daten/Texten mit open und einem zeilenweise itterieren über das Element"
   ]
  },
  {
   "cell_type": "code",
   "execution_count": null,
   "metadata": {},
   "outputs": [],
   "source": [
    "with open(\"wikipedia.txt\") as f:\n",
    "    for line in f:\n",
    "        print(line)\n"
   ]
  },
  {
   "cell_type": "markdown",
   "metadata": {},
   "source": [
    "Und wie kann man Daten im Text verändern oder anhängen?\n",
    "Der open() Befehl erlaubt es auch Dateien zu erstellen, Daten anzuhängen ...\n",
    "<a href='https://docs.python.org/2/library/functions.html#open'> open Doc</a>\n",
    "Im folgenden ersetzen wir im Wikipedia-Artikel EY durch Ernst&Young. Nach jedem Durchlauf kann man dann line mit open('wiki2.txt', 'a') (a für append) in einem weiteren Dokument anhängen"
   ]
  },
  {
   "cell_type": "code",
   "execution_count": null,
   "metadata": {},
   "outputs": [],
   "source": [
    "with open(\"wikipedia.txt\") as f:\n",
    "    for line in f:\n",
    "        if 'Ernst & Young' in line:\n",
    "            newline = line.replace('Ernst & Young', 'EY')\n",
    "            print(newline)\n",
    "        else:\n",
    "            print(line)"
   ]
  },
  {
   "cell_type": "markdown",
   "metadata": {},
   "source": [
    "# Mit Pandas schrittweise einlesen"
   ]
  },
  {
   "cell_type": "markdown",
   "metadata": {
    "collapsed": true
   },
   "source": [
    "lese die Datei in Blöcken von 10.000 Zeilen ein \n",
    "mit chunksize = 'Blockgröße' kann die größe des Blocks bestimmt werden"
   ]
  },
  {
   "cell_type": "code",
   "execution_count": null,
   "metadata": {},
   "outputs": [],
   "source": [
    "import pandas as pd\n",
    "for df in pd.read_csv(r'taxi_hunderttausend.csv', chunksize=10000 ,error_bad_lines=False):\n",
    "    pass\n",
    "df\n"
   ]
  },
  {
   "cell_type": "markdown",
   "metadata": {},
   "source": [
    "Ich will die Spalte trip_duration hinzufügen?\n",
    "Kein Problem da das Wissen zum berechnen in jeder Spalte selber vorhanden ist Endzeit-Startzeit"
   ]
  },
  {
   "cell_type": "code",
   "execution_count": null,
   "metadata": {
    "collapsed": true
   },
   "outputs": [],
   "source": [
    "import pandas as pd\n",
    "for df in pd.read_csv(r'taxi_hunderttausend.csv', chunksize=10000 ,error_bad_lines=False):\n",
    "    df['pickup_datetime'] = pd.to_datetime(df['pickup_datetime'])\n",
    "    df['dropoff_datetime'] = pd.to_datetime(df['dropoff_datetime'])\n",
    "    df['trip_duration'] = df['dropoff_datetime']-df['pickup_datetime']\n",
    "    df.to_csv(r'taxi+traveltime.csv', mode = 'a')\n"
   ]
  },
  {
   "cell_type": "code",
   "execution_count": null,
   "metadata": {},
   "outputs": [],
   "source": [
    "df = pd.read_csv(r'taxi+traveltime.csv', nrows = 100)\n",
    "df"
   ]
  },
  {
   "cell_type": "markdown",
   "metadata": {},
   "source": [
    "Vorteile:\n",
    "+ einfach zu bedienen\n",
    "+ viele Lösungen mit diesem Ansatz im Internet\n",
    "\n",
    "Nachteile\n",
    "- eher ein Ansatz um seine Gewonheiten nicht ändern zu müssen\n",
    "- Acht geben wenn der Datentyp von Int auf String wechselt, dann folgt der Abbruch oder ein Fehler wird in das Datenset getragen"
   ]
  },
  {
   "cell_type": "code",
   "execution_count": null,
   "metadata": {
    "collapsed": true
   },
   "outputs": [],
   "source": []
  }
 ],
 "metadata": {
  "kernelspec": {
   "display_name": "Python 3",
   "language": "python",
   "name": "python3"
  },
  "language_info": {
   "codemirror_mode": {
    "name": "ipython",
    "version": 3
   },
   "file_extension": ".py",
   "mimetype": "text/x-python",
   "name": "python",
   "nbconvert_exporter": "python",
   "pygments_lexer": "ipython3",
   "version": "3.6.1"
  }
 },
 "nbformat": 4,
 "nbformat_minor": 2
}
