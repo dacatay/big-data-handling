{
 "cells": [
  {
   "cell_type": "markdown",
   "metadata": {},
   "source": [
    "# Big Dataframes in R"
   ]
  },
  {
   "cell_type": "markdown",
   "metadata": {},
   "source": [
    "## Die verschiedenen Ansätze\n",
    "\n",
    "In R gibt es zum Umgang mit großen Daten verschiedene Ansätze. Die üblichsten sind:\n",
    "\n",
    "- SQL-Datenbanken\n",
    "- SQLite\n",
    "- hdf5-Dateien\n",
    "- Das Paket data.table (insb. der Befehl fread)\n",
    "- Das Paket bigmemory\n",
    "- Das Paket ff"
   ]
  },
  {
   "cell_type": "markdown",
   "metadata": {},
   "source": [
    "## SQL und SQLite\n",
    "\n",
    "### Idee:\n",
    "- Die Daten liege in einer Datenbank und nicht im Arbeitsspeicher.  \n",
    "\n",
    "### Probleme:\n",
    "- Die Verknüpfung mit einer SQL-Datenbank ist innerhalb des Firmennetzes nicht möglich.\n",
    "- Ergbnisse werden in R (also im Memory) gespeichert, also sind nur Rechnungen möglich, die keine \"zu großen\" Ergebnisse haben\n",
    " - Da in SQL(-ite)-Datenbanken nicht einfach Spalten hinzugefügt werden können, wie bei einem Dataframe, müssen z. B. auch neu generierte Spalten als Vektoren im Arbeitsspeicher gespeichert werden.\n",
    " - Dazu reicht der Arbeitsspeicher oft nicht aus \n",
    "\n",
    "### Fazit:\n",
    "- SQL und SQLite sind nicht geeignet"
   ]
  },
  {
   "cell_type": "markdown",
   "metadata": {},
   "source": [
    "## hdf5-Dateien\n",
    "\n",
    "### Idee:\n",
    "- hdf5 ist ein Speicherformat\n",
    "- Bei gleichem Inhalt sind hdf5-Datein i. d. R. kleiner als CSV-Datein.\n",
    "- So könnten Datensätze, die eigentlich zu groß sind, kleiner werden.\n",
    "\n",
    "### Problem:\n",
    "- Beim Import der Daten nach R werden diese in einen Dataframe umgewandelt.\n",
    "- Der Dataframe in R ist genau so groß, als wäre er aus einer CSV-Datei eingelsen worden.\n",
    "\n",
    "### Fazit:\n",
    "- hdf5-Dateien sind nicht geeignet"
   ]
  },
  {
   "cell_type": "markdown",
   "metadata": {},
   "source": [
    "## Paket data.table (insb. Befehl fread)\n",
    "\n",
    "### Idee:\n",
    "- Der Befehl fread() ist ein Befehl zum einlesen einer CSV-Datei\n",
    "- Dieser liest große Dateien schneller ein als read.csv() oder read.table()\n",
    "\n",
    "### Problem:\n",
    "- Genau wie z. B. read.table() lädt fread() die Daten in den Arbeitsspeicher\n",
    "- Dadurch ist die Verwendung von Dateien, die größer sind als dieser, nicht möglich\n",
    "\n",
    "### Fazit:\n",
    "- Der Befehl fread() ist nicht geeignet für Dateien, die größer sind als der Arbeitsspeicher\n",
    "- Er kann jedoch für das Einlesen sonstiger \"großer\" CSV-Dateien verwendet werden\n",
    " - Hier ist er deutlich schneller beim Datenimport mit read.table() oder read.csv()"
   ]
  },
  {
   "cell_type": "code",
   "execution_count": 2,
   "metadata": {},
   "outputs": [
    {
     "data": {
      "text/html": [
       "17375430"
      ],
      "text/latex": [
       "17375430"
      ],
      "text/markdown": [
       "17375430"
      ],
      "text/plain": [
       "[1] 17375430"
      ]
     },
     "metadata": {},
     "output_type": "display_data"
    }
   ],
   "source": [
    "file.size(\"taxi_hunderttausend.csv\")"
   ]
  },
  {
   "cell_type": "code",
   "execution_count": 3,
   "metadata": {},
   "outputs": [
    {
     "name": "stdout",
     "output_type": "stream",
     "text": [
      "\n",
      "  There is a binary version available but the source version is later:\n",
      "             binary   source needs_compilation\n",
      "data.table 1.10.4-2 1.10.4-3              TRUE\n",
      "\n"
     ]
    },
    {
     "name": "stderr",
     "output_type": "stream",
     "text": [
      "installing the source package 'data.table'\n",
      "\n",
      "Warning message:\n",
      "\"Ausführung von Kommando '\"C:/ProgramData/Anaconda3/R/bin/x64/R\" CMD INSTALL -l \"C:\\ProgramData\\Anaconda3\\R\\library\" C:\\Users\\DEDACAT1\\AppData\\Local\\Temp\\RtmpYB6tpT/downloaded_packages/data.table_1.10.4-3.tar.gz' ergab Status 1\"Warning message in install.packages(\"data.table\", repos = \"http://cran.rstudio.com/\"):\n",
      "\"installation of package 'data.table' had non-zero exit status\""
     ]
    }
   ],
   "source": [
    "install.packages(\"data.table\", repos=\"http://cran.rstudio.com/\")"
   ]
  },
  {
   "cell_type": "code",
   "execution_count": 4,
   "metadata": {},
   "outputs": [
    {
     "name": "stdout",
     "output_type": "stream",
     "text": [
      "\r",
      "Read 20.0% of 100000 rows\r",
      "Read 60.0% of 100000 rows\r",
      "Read 100000 rows and 22 (of 22) columns from 0.016 GB file in 00:00:05\n"
     ]
    },
    {
     "data": {
      "text/html": [
       "<table>\n",
       "<thead><tr><th scope=col>No.</th><th scope=col>vendorid</th><th scope=col>pickup_datetime</th><th scope=col>dropoff_datetime</th><th scope=col>Store_and_fwd_flag</th><th scope=col>rate_code</th><th scope=col>Pickup_longitude</th><th scope=col>Pickup_latitude</th><th scope=col>Dropoff_longitude</th><th scope=col>Dropoff_latitude</th><th scope=col>...</th><th scope=col>Fare_amount</th><th scope=col>Extra</th><th scope=col>MTA_tax</th><th scope=col>Tip_amount</th><th scope=col>Tolls_amount</th><th scope=col>Ehail_fee</th><th scope=col>Improvement_surcharge</th><th scope=col>Total_amount</th><th scope=col>Payment_type</th><th scope=col>Trip_type</th></tr></thead>\n",
       "<tbody>\n",
       "\t<tr><td>1                     </td><td>1                     </td><td>03/12/2015 09:26:05 AM</td><td>03/12/2015 09:33:58 AM</td><td>N                     </td><td>1                     </td><td>-73.95048             </td><td>40.82673              </td><td>-73.97156             </td><td>40.79540              </td><td>...                   </td><td>10.0                  </td><td>0.0                   </td><td>0.5                   </td><td>1                     </td><td>0                     </td><td>NA                    </td><td>0.3                   </td><td>11.8                  </td><td>1                     </td><td>1                     </td></tr>\n",
       "\t<tr><td>2                     </td><td>1                     </td><td>05/29/2015 03:27:07 AM</td><td>05/29/2015 03:45:28 AM</td><td>N                     </td><td>1                     </td><td>-73.91412             </td><td>40.82377              </td><td>-73.97552             </td><td>40.75171              </td><td>...                   </td><td>23.0                  </td><td>0.5                   </td><td>0.5                   </td><td>0                     </td><td>0                     </td><td>NA                    </td><td>0.3                   </td><td>24.3                  </td><td>2                     </td><td>1                     </td></tr>\n",
       "\t<tr><td>3                     </td><td>2                     </td><td>11/24/2015 08:07:46 PM</td><td>11/24/2015 08:31:35 PM</td><td>N                     </td><td>1                     </td><td>-73.95275             </td><td>40.72718              </td><td>-73.97131             </td><td>40.69326              </td><td>...                   </td><td>19.5                  </td><td>0.5                   </td><td>0.5                   </td><td>0                     </td><td>0                     </td><td>NA                    </td><td>0.3                   </td><td>20.8                  </td><td>2                     </td><td>1                     </td></tr>\n",
       "\t<tr><td>4                     </td><td>2                     </td><td>12/18/2015 06:46:25 PM</td><td>12/18/2015 06:53:06 PM</td><td>N                     </td><td>1                     </td><td>-73.96027             </td><td>40.72038              </td><td>-73.95609             </td><td>40.73299              </td><td>...                   </td><td> 6.5                  </td><td>1.0                   </td><td>0.5                   </td><td>2                     </td><td>0                     </td><td>NA                    </td><td>0.3                   </td><td>10.3                  </td><td>1                     </td><td>1                     </td></tr>\n",
       "\t<tr><td>5                     </td><td>2                     </td><td>09/22/2015 06:32:36 PM</td><td>09/22/2015 06:34:44 PM</td><td>N                     </td><td>1                     </td><td>-73.82996             </td><td>40.71370              </td><td>-73.82336             </td><td>40.71331              </td><td>...                   </td><td> 4.0                  </td><td>1.0                   </td><td>0.5                   </td><td>0                     </td><td>0                     </td><td>NA                    </td><td>0.3                   </td><td> 5.8                  </td><td>2                     </td><td>1                     </td></tr>\n",
       "\t<tr><td>6                     </td><td>2                     </td><td>05/15/2015 08:42:44 PM</td><td>05/15/2015 08:56:03 PM</td><td>N                     </td><td>1                     </td><td>-73.96410             </td><td>40.71015              </td><td>-73.99409             </td><td>40.69523              </td><td>...                   </td><td>13.5                  </td><td>0.5                   </td><td>0.5                   </td><td>0                     </td><td>0                     </td><td>NA                    </td><td>0.3                   </td><td>14.8                  </td><td>2                     </td><td>1                     </td></tr>\n",
       "</tbody>\n",
       "</table>\n"
      ],
      "text/latex": [
       "\\begin{tabular}{r|llllllllllllllllllllll}\n",
       " No. & vendorid & pickup\\_datetime & dropoff\\_datetime & Store\\_and\\_fwd\\_flag & rate\\_code & Pickup\\_longitude & Pickup\\_latitude & Dropoff\\_longitude & Dropoff\\_latitude & ... & Fare\\_amount & Extra & MTA\\_tax & Tip\\_amount & Tolls\\_amount & Ehail\\_fee & Improvement\\_surcharge & Total\\_amount & Payment\\_type & Trip\\_type\\\\\n",
       "\\hline\n",
       "\t 1                      & 1                      & 03/12/2015 09:26:05 AM & 03/12/2015 09:33:58 AM & N                      & 1                      & -73.95048              & 40.82673               & -73.97156              & 40.79540               & ...                    & 10.0                   & 0.0                    & 0.5                    & 1                      & 0                      & NA                     & 0.3                    & 11.8                   & 1                      & 1                     \\\\\n",
       "\t 2                      & 1                      & 05/29/2015 03:27:07 AM & 05/29/2015 03:45:28 AM & N                      & 1                      & -73.91412              & 40.82377               & -73.97552              & 40.75171               & ...                    & 23.0                   & 0.5                    & 0.5                    & 0                      & 0                      & NA                     & 0.3                    & 24.3                   & 2                      & 1                     \\\\\n",
       "\t 3                      & 2                      & 11/24/2015 08:07:46 PM & 11/24/2015 08:31:35 PM & N                      & 1                      & -73.95275              & 40.72718               & -73.97131              & 40.69326               & ...                    & 19.5                   & 0.5                    & 0.5                    & 0                      & 0                      & NA                     & 0.3                    & 20.8                   & 2                      & 1                     \\\\\n",
       "\t 4                      & 2                      & 12/18/2015 06:46:25 PM & 12/18/2015 06:53:06 PM & N                      & 1                      & -73.96027              & 40.72038               & -73.95609              & 40.73299               & ...                    &  6.5                   & 1.0                    & 0.5                    & 2                      & 0                      & NA                     & 0.3                    & 10.3                   & 1                      & 1                     \\\\\n",
       "\t 5                      & 2                      & 09/22/2015 06:32:36 PM & 09/22/2015 06:34:44 PM & N                      & 1                      & -73.82996              & 40.71370               & -73.82336              & 40.71331               & ...                    &  4.0                   & 1.0                    & 0.5                    & 0                      & 0                      & NA                     & 0.3                    &  5.8                   & 2                      & 1                     \\\\\n",
       "\t 6                      & 2                      & 05/15/2015 08:42:44 PM & 05/15/2015 08:56:03 PM & N                      & 1                      & -73.96410              & 40.71015               & -73.99409              & 40.69523               & ...                    & 13.5                   & 0.5                    & 0.5                    & 0                      & 0                      & NA                     & 0.3                    & 14.8                   & 2                      & 1                     \\\\\n",
       "\\end{tabular}\n"
      ],
      "text/markdown": [
       "\n",
       "No. | vendorid | pickup_datetime | dropoff_datetime | Store_and_fwd_flag | rate_code | Pickup_longitude | Pickup_latitude | Dropoff_longitude | Dropoff_latitude | ... | Fare_amount | Extra | MTA_tax | Tip_amount | Tolls_amount | Ehail_fee | Improvement_surcharge | Total_amount | Payment_type | Trip_type | \n",
       "|---|---|---|---|---|---|\n",
       "| 1                      | 1                      | 03/12/2015 09:26:05 AM | 03/12/2015 09:33:58 AM | N                      | 1                      | -73.95048              | 40.82673               | -73.97156              | 40.79540               | ...                    | 10.0                   | 0.0                    | 0.5                    | 1                      | 0                      | NA                     | 0.3                    | 11.8                   | 1                      | 1                      | \n",
       "| 2                      | 1                      | 05/29/2015 03:27:07 AM | 05/29/2015 03:45:28 AM | N                      | 1                      | -73.91412              | 40.82377               | -73.97552              | 40.75171               | ...                    | 23.0                   | 0.5                    | 0.5                    | 0                      | 0                      | NA                     | 0.3                    | 24.3                   | 2                      | 1                      | \n",
       "| 3                      | 2                      | 11/24/2015 08:07:46 PM | 11/24/2015 08:31:35 PM | N                      | 1                      | -73.95275              | 40.72718               | -73.97131              | 40.69326               | ...                    | 19.5                   | 0.5                    | 0.5                    | 0                      | 0                      | NA                     | 0.3                    | 20.8                   | 2                      | 1                      | \n",
       "| 4                      | 2                      | 12/18/2015 06:46:25 PM | 12/18/2015 06:53:06 PM | N                      | 1                      | -73.96027              | 40.72038               | -73.95609              | 40.73299               | ...                    |  6.5                   | 1.0                    | 0.5                    | 2                      | 0                      | NA                     | 0.3                    | 10.3                   | 1                      | 1                      | \n",
       "| 5                      | 2                      | 09/22/2015 06:32:36 PM | 09/22/2015 06:34:44 PM | N                      | 1                      | -73.82996              | 40.71370               | -73.82336              | 40.71331               | ...                    |  4.0                   | 1.0                    | 0.5                    | 0                      | 0                      | NA                     | 0.3                    |  5.8                   | 2                      | 1                      | \n",
       "| 6                      | 2                      | 05/15/2015 08:42:44 PM | 05/15/2015 08:56:03 PM | N                      | 1                      | -73.96410              | 40.71015               | -73.99409              | 40.69523               | ...                    | 13.5                   | 0.5                    | 0.5                    | 0                      | 0                      | NA                     | 0.3                    | 14.8                   | 2                      | 1                      | \n",
       "\n",
       "\n"
      ],
      "text/plain": [
       "  No. vendorid pickup_datetime        dropoff_datetime       Store_and_fwd_flag\n",
       "1 1   1        03/12/2015 09:26:05 AM 03/12/2015 09:33:58 AM N                 \n",
       "2 2   1        05/29/2015 03:27:07 AM 05/29/2015 03:45:28 AM N                 \n",
       "3 3   2        11/24/2015 08:07:46 PM 11/24/2015 08:31:35 PM N                 \n",
       "4 4   2        12/18/2015 06:46:25 PM 12/18/2015 06:53:06 PM N                 \n",
       "5 5   2        09/22/2015 06:32:36 PM 09/22/2015 06:34:44 PM N                 \n",
       "6 6   2        05/15/2015 08:42:44 PM 05/15/2015 08:56:03 PM N                 \n",
       "  rate_code Pickup_longitude Pickup_latitude Dropoff_longitude Dropoff_latitude\n",
       "1 1         -73.95048        40.82673        -73.97156         40.79540        \n",
       "2 1         -73.91412        40.82377        -73.97552         40.75171        \n",
       "3 1         -73.95275        40.72718        -73.97131         40.69326        \n",
       "4 1         -73.96027        40.72038        -73.95609         40.73299        \n",
       "5 1         -73.82996        40.71370        -73.82336         40.71331        \n",
       "6 1         -73.96410        40.71015        -73.99409         40.69523        \n",
       "  ... Fare_amount Extra MTA_tax Tip_amount Tolls_amount Ehail_fee\n",
       "1 ... 10.0        0.0   0.5     1          0            NA       \n",
       "2 ... 23.0        0.5   0.5     0          0            NA       \n",
       "3 ... 19.5        0.5   0.5     0          0            NA       \n",
       "4 ...  6.5        1.0   0.5     2          0            NA       \n",
       "5 ...  4.0        1.0   0.5     0          0            NA       \n",
       "6 ... 13.5        0.5   0.5     0          0            NA       \n",
       "  Improvement_surcharge Total_amount Payment_type Trip_type\n",
       "1 0.3                   11.8         1            1        \n",
       "2 0.3                   24.3         2            1        \n",
       "3 0.3                   20.8         2            1        \n",
       "4 0.3                   10.3         1            1        \n",
       "5 0.3                    5.8         2            1        \n",
       "6 0.3                   14.8         2            1        "
      ]
     },
     "metadata": {},
     "output_type": "display_data"
    },
    {
     "name": "stdout",
     "output_type": "stream",
     "text": [
      "[1] \"Größe des Dataframes:\"\n"
     ]
    },
    {
     "data": {
      "text/plain": [
       "34336480 bytes"
      ]
     },
     "metadata": {},
     "output_type": "display_data"
    }
   ],
   "source": [
    "library(data.table)\n",
    "\n",
    "fread.df <- fread(file = \"taxi_hunderttausend.csv\", header = TRUE, sep = \",\", dec = \".\")\n",
    "head(fread.df)\n",
    "print(\"Größe des Dataframes:\")\n",
    "object.size(fread.df)"
   ]
  },
  {
   "cell_type": "markdown",
   "metadata": {},
   "source": [
    "## Paket bigmemory\n",
    "\n",
    "### Idee:\n",
    "1. Ein eigenes Format in R, das eine effizientere Datenverarbeitung zulässt als herkömmliche Dataframes\n",
    "2. Eine Schnittstelle für cloud computing \n",
    " - Verarbeitung großer Daten (größer als der Arbeitsspeicher)\n",
    "\n",
    "### Probleme:\n",
    "- Das Format ermöglicht eine effizientere Datenverarbeitung und somit die Analyse von Dateien, die als Dataframes nicht analysiert werden könnten.\n",
    " - Die Datei muss jedoch kleiner sein als der Arbeitsspeicher.\n",
    "- Ein Ausweg wäre die Nutzung von cloud computing.\n",
    " - Dies ist bei EY jedoch (noch) nicht möglich.\n",
    "- Die big.matrix kann nur einen Typ von Vaiablen enthalten (z.B. numeric). \n",
    " - Eine Kombination von z.B. numeric und character ist nicht möglich. \n",
    "\n",
    "### Fazit:\n",
    "- Das Paket ist nicht geeignet für Dateien, die größer sind als der Arbeitsspeicher.\n",
    "- Es kann jedoch für Dateien verwendet werden, die zwar noch kleiner sind als der Arbeitsspeicher, aber zu groß um sie mit read.csv() zu importieren."
   ]
  },
  {
   "cell_type": "code",
   "execution_count": 5,
   "metadata": {},
   "outputs": [
    {
     "name": "stdout",
     "output_type": "stream",
     "text": [
      "package 'bigmemory' successfully unpacked and MD5 sums checked\n",
      "\n",
      "The downloaded binary packages are in\n",
      "\tC:\\Users\\DEDACAT1\\AppData\\Local\\Temp\\RtmpYB6tpT\\downloaded_packages\n"
     ]
    }
   ],
   "source": [
    "install.packages(\"bigmemory\", repos=\"http://cran.rstudio.com/\")"
   ]
  },
  {
   "cell_type": "code",
   "execution_count": 6,
   "metadata": {},
   "outputs": [
    {
     "name": "stderr",
     "output_type": "stream",
     "text": [
      "Loading required package: bigmemory.sri\n",
      "Warning message in na.omit(as.integer(firstLineVals)):\n",
      "\"NAs durch Umwandlung erzeugt\"Warning message in na.omit(as.double(firstLineVals)):\n",
      "\"NAs durch Umwandlung erzeugt\"Warning message in read.big.matrix(\"taxi_hunderttausend.csv\", sep = \",\", header = TRUE):\n",
      "\"Because type was not specified, we chose double based on the first line of data.\""
     ]
    },
    {
     "data": {
      "text/html": [
       "<table>\n",
       "<thead><tr><th scope=col>No.</th><th scope=col>vendorid</th><th scope=col>pickup_datetime</th><th scope=col>dropoff_datetime</th><th scope=col>Store_and_fwd_flag</th><th scope=col>rate_code</th><th scope=col>Pickup_longitude</th><th scope=col>Pickup_latitude</th><th scope=col>Dropoff_longitude</th><th scope=col>Dropoff_latitude</th><th scope=col>...</th><th scope=col>Fare_amount</th><th scope=col>Extra</th><th scope=col>MTA_tax</th><th scope=col>Tip_amount</th><th scope=col>Tolls_amount</th><th scope=col>Ehail_fee</th><th scope=col>Improvement_surcharge</th><th scope=col>Total_amount</th><th scope=col>Payment_type</th><th scope=col>Trip_type</th></tr></thead>\n",
       "<tbody>\n",
       "\t<tr><td>NA       </td><td>1        </td><td>NA       </td><td>NA       </td><td>NA       </td><td>1        </td><td>-73.95048</td><td>40.82673 </td><td>-73.97156</td><td>40.79540 </td><td>...      </td><td>10.0     </td><td>0.0      </td><td>0.5      </td><td>1        </td><td>0        </td><td>NA       </td><td>0.3      </td><td>11.8     </td><td>1        </td><td>1        </td></tr>\n",
       "\t<tr><td>NA       </td><td>1        </td><td>NA       </td><td>NA       </td><td>NA       </td><td>1        </td><td>-73.91412</td><td>40.82377 </td><td>-73.97552</td><td>40.75171 </td><td>...      </td><td>23.0     </td><td>0.5      </td><td>0.5      </td><td>0        </td><td>0        </td><td>NA       </td><td>0.3      </td><td>24.3     </td><td>2        </td><td>1        </td></tr>\n",
       "\t<tr><td>NA       </td><td>2        </td><td>NA       </td><td>NA       </td><td>NA       </td><td>1        </td><td>-73.95275</td><td>40.72718 </td><td>-73.97131</td><td>40.69326 </td><td>...      </td><td>19.5     </td><td>0.5      </td><td>0.5      </td><td>0        </td><td>0        </td><td>NA       </td><td>0.3      </td><td>20.8     </td><td>2        </td><td>1        </td></tr>\n",
       "\t<tr><td>NA       </td><td>2        </td><td>NA       </td><td>NA       </td><td>NA       </td><td>1        </td><td>-73.96027</td><td>40.72038 </td><td>-73.95609</td><td>40.73299 </td><td>...      </td><td> 6.5     </td><td>1.0      </td><td>0.5      </td><td>2        </td><td>0        </td><td>NA       </td><td>0.3      </td><td>10.3     </td><td>1        </td><td>1        </td></tr>\n",
       "\t<tr><td>NA       </td><td>2        </td><td>NA       </td><td>NA       </td><td>NA       </td><td>1        </td><td>-73.82996</td><td>40.71370 </td><td>-73.82336</td><td>40.71331 </td><td>...      </td><td> 4.0     </td><td>1.0      </td><td>0.5      </td><td>0        </td><td>0        </td><td>NA       </td><td>0.3      </td><td> 5.8     </td><td>2        </td><td>1        </td></tr>\n",
       "\t<tr><td>NA       </td><td>2        </td><td>NA       </td><td>NA       </td><td>NA       </td><td>1        </td><td>-73.96410</td><td>40.71015 </td><td>-73.99409</td><td>40.69523 </td><td>...      </td><td>13.5     </td><td>0.5      </td><td>0.5      </td><td>0        </td><td>0        </td><td>NA       </td><td>0.3      </td><td>14.8     </td><td>2        </td><td>1        </td></tr>\n",
       "</tbody>\n",
       "</table>\n"
      ],
      "text/latex": [
       "\\begin{tabular}{llllllllllllllllllllll}\n",
       " No. & vendorid & pickup\\_datetime & dropoff\\_datetime & Store\\_and\\_fwd\\_flag & rate\\_code & Pickup\\_longitude & Pickup\\_latitude & Dropoff\\_longitude & Dropoff\\_latitude & ... & Fare\\_amount & Extra & MTA\\_tax & Tip\\_amount & Tolls\\_amount & Ehail\\_fee & Improvement\\_surcharge & Total\\_amount & Payment\\_type & Trip\\_type\\\\\n",
       "\\hline\n",
       "\t NA        & 1         & NA        & NA        & NA        & 1         & -73.95048 & 40.82673  & -73.97156 & 40.79540  & ...       & 10.0      & 0.0       & 0.5       & 1         & 0         & NA        & 0.3       & 11.8      & 1         & 1        \\\\\n",
       "\t NA        & 1         & NA        & NA        & NA        & 1         & -73.91412 & 40.82377  & -73.97552 & 40.75171  & ...       & 23.0      & 0.5       & 0.5       & 0         & 0         & NA        & 0.3       & 24.3      & 2         & 1        \\\\\n",
       "\t NA        & 2         & NA        & NA        & NA        & 1         & -73.95275 & 40.72718  & -73.97131 & 40.69326  & ...       & 19.5      & 0.5       & 0.5       & 0         & 0         & NA        & 0.3       & 20.8      & 2         & 1        \\\\\n",
       "\t NA        & 2         & NA        & NA        & NA        & 1         & -73.96027 & 40.72038  & -73.95609 & 40.73299  & ...       &  6.5      & 1.0       & 0.5       & 2         & 0         & NA        & 0.3       & 10.3      & 1         & 1        \\\\\n",
       "\t NA        & 2         & NA        & NA        & NA        & 1         & -73.82996 & 40.71370  & -73.82336 & 40.71331  & ...       &  4.0      & 1.0       & 0.5       & 0         & 0         & NA        & 0.3       &  5.8      & 2         & 1        \\\\\n",
       "\t NA        & 2         & NA        & NA        & NA        & 1         & -73.96410 & 40.71015  & -73.99409 & 40.69523  & ...       & 13.5      & 0.5       & 0.5       & 0         & 0         & NA        & 0.3       & 14.8      & 2         & 1        \\\\\n",
       "\\end{tabular}\n"
      ],
      "text/markdown": [
       "\n",
       "No. | vendorid | pickup_datetime | dropoff_datetime | Store_and_fwd_flag | rate_code | Pickup_longitude | Pickup_latitude | Dropoff_longitude | Dropoff_latitude | ... | Fare_amount | Extra | MTA_tax | Tip_amount | Tolls_amount | Ehail_fee | Improvement_surcharge | Total_amount | Payment_type | Trip_type | \n",
       "|---|---|---|---|---|---|\n",
       "| NA        | 1         | NA        | NA        | NA        | 1         | -73.95048 | 40.82673  | -73.97156 | 40.79540  | ...       | 10.0      | 0.0       | 0.5       | 1         | 0         | NA        | 0.3       | 11.8      | 1         | 1         | \n",
       "| NA        | 1         | NA        | NA        | NA        | 1         | -73.91412 | 40.82377  | -73.97552 | 40.75171  | ...       | 23.0      | 0.5       | 0.5       | 0         | 0         | NA        | 0.3       | 24.3      | 2         | 1         | \n",
       "| NA        | 2         | NA        | NA        | NA        | 1         | -73.95275 | 40.72718  | -73.97131 | 40.69326  | ...       | 19.5      | 0.5       | 0.5       | 0         | 0         | NA        | 0.3       | 20.8      | 2         | 1         | \n",
       "| NA        | 2         | NA        | NA        | NA        | 1         | -73.96027 | 40.72038  | -73.95609 | 40.73299  | ...       |  6.5      | 1.0       | 0.5       | 2         | 0         | NA        | 0.3       | 10.3      | 1         | 1         | \n",
       "| NA        | 2         | NA        | NA        | NA        | 1         | -73.82996 | 40.71370  | -73.82336 | 40.71331  | ...       |  4.0      | 1.0       | 0.5       | 0         | 0         | NA        | 0.3       |  5.8      | 2         | 1         | \n",
       "| NA        | 2         | NA        | NA        | NA        | 1         | -73.96410 | 40.71015  | -73.99409 | 40.69523  | ...       | 13.5      | 0.5       | 0.5       | 0         | 0         | NA        | 0.3       | 14.8      | 2         | 1         | \n",
       "\n",
       "\n"
      ],
      "text/plain": [
       "     No. vendorid pickup_datetime dropoff_datetime Store_and_fwd_flag rate_code\n",
       "[1,] NA  1        NA              NA               NA                 1        \n",
       "[2,] NA  1        NA              NA               NA                 1        \n",
       "[3,] NA  2        NA              NA               NA                 1        \n",
       "[4,] NA  2        NA              NA               NA                 1        \n",
       "[5,] NA  2        NA              NA               NA                 1        \n",
       "[6,] NA  2        NA              NA               NA                 1        \n",
       "     Pickup_longitude Pickup_latitude Dropoff_longitude Dropoff_latitude ...\n",
       "[1,] -73.95048        40.82673        -73.97156         40.79540         ...\n",
       "[2,] -73.91412        40.82377        -73.97552         40.75171         ...\n",
       "[3,] -73.95275        40.72718        -73.97131         40.69326         ...\n",
       "[4,] -73.96027        40.72038        -73.95609         40.73299         ...\n",
       "[5,] -73.82996        40.71370        -73.82336         40.71331         ...\n",
       "[6,] -73.96410        40.71015        -73.99409         40.69523         ...\n",
       "     Fare_amount Extra MTA_tax Tip_amount Tolls_amount Ehail_fee\n",
       "[1,] 10.0        0.0   0.5     1          0            NA       \n",
       "[2,] 23.0        0.5   0.5     0          0            NA       \n",
       "[3,] 19.5        0.5   0.5     0          0            NA       \n",
       "[4,]  6.5        1.0   0.5     2          0            NA       \n",
       "[5,]  4.0        1.0   0.5     0          0            NA       \n",
       "[6,] 13.5        0.5   0.5     0          0            NA       \n",
       "     Improvement_surcharge Total_amount Payment_type Trip_type\n",
       "[1,] 0.3                   11.8         1            1        \n",
       "[2,] 0.3                   24.3         2            1        \n",
       "[3,] 0.3                   20.8         2            1        \n",
       "[4,] 0.3                   10.3         1            1        \n",
       "[5,] 0.3                    5.8         2            1        \n",
       "[6,] 0.3                   14.8         2            1        "
      ]
     },
     "metadata": {},
     "output_type": "display_data"
    }
   ],
   "source": [
    "library(bigmemory)\n",
    "bm <- read.big.matrix(\"taxi_hunderttausend.csv\", sep = \",\", header = TRUE)\n",
    "head(bm)"
   ]
  },
  {
   "cell_type": "markdown",
   "metadata": {},
   "source": [
    "## Paket ff\n",
    "\n",
    "### Idee:\n",
    "- Die Daten liegen nicht im Arbeitsspeicher sondern auf der Festplatte.\n",
    "- In R wird eine Verknüpfung zu diesen Daten in Form eines ffdf-Objekts angelegt.\n",
    "- Das ffdf-Objekt ist (außer bei kleinen Datensätzen) deutlich keiner als der Datensatz, hat bei sehr großen Dateien jedoch oftmals auch 1 bis 2 GB.\n",
    "- Berechnungen mit ffdf-Objekten werden zeilenweise vorgenommen, sodass immer nur ein kleiner Teil des Datensatzes gleichzeitig im Arbeitsspeicher liegt."
   ]
  },
  {
   "cell_type": "markdown",
   "metadata": {},
   "source": [
    "![ff](ff.png)"
   ]
  },
  {
   "cell_type": "markdown",
   "metadata": {},
   "source": [
    "### Probleme:\n",
    "- Das Erstellen des ffdf-Objekts dauert sehr lange.\n",
    " - Beim aktuellen Laptop mit 8 GB RAM ca. 7 - 10 Minuten pro GB.\n",
    " - In Jupyter dauert dies noch einmal ca. 30 bis 50% länger als in RStudio.\n",
    "- Berechnungen sind i. d. R. langsamer, als bei herkömmlichen CSV-Dateien.\n",
    " - Die Geschwindigkeit der Berechnungen hängt maßgeblich von der Geschwindigkeit der Festplatte ab.\n",
    "- Berechnungen mit ffdf-Objekten funktionieren anders als mit CSV-Dateien.\n",
    "- Die Größe der Daten ist auf ca. das fünffache des Arbeitsspeichers beschränkt.\n",
    "- Die Datei wird in den temporären Ordner auf der Festplatte kopiert => so viel Platz muss noch frei sin \n",
    "\n",
    "### Fazit:\n",
    "- Das Paket ist geeignet für Dateien, die größer sind als der Arbeitsspeicher.\n",
    " - Jedoch nur solange sie max. fünf mal so groß sind wie dieser!\n",
    "\n",
    "### Umsetzung:\n",
    "- Befehl read.table.ffdf()\n",
    " - Erstellt aus beliebigen CSV-Dateien ffdf-Objekte"
   ]
  },
  {
   "cell_type": "code",
   "execution_count": 7,
   "metadata": {},
   "outputs": [
    {
     "name": "stdout",
     "output_type": "stream",
     "text": [
      "package 'ff' successfully unpacked and MD5 sums checked\n",
      "\n",
      "The downloaded binary packages are in\n",
      "\tC:\\Users\\DEDACAT1\\AppData\\Local\\Temp\\RtmpYB6tpT\\downloaded_packages\n"
     ]
    }
   ],
   "source": [
    "install.packages(\"ff\", repos=\"http://cran.rstudio.com/\")"
   ]
  },
  {
   "cell_type": "code",
   "execution_count": 9,
   "metadata": {},
   "outputs": [
    {
     "name": "stdout",
     "output_type": "stream",
     "text": [
      "read.table.ffdf 1..100000 (100000)  csv-read=8.72sec ffdf-write=0.16sec\n",
      " csv-read=8.72sec  ffdf-write=0.16sec  TOTAL=8.88sec\n"
     ]
    },
    {
     "data": {
      "text/plain": [
       "ffdf (all open) dim=c(100000,6), dimorder=c(1,2) row.names=NULL\n",
       "ffdf virtual mapping\n",
       "                         PhysicalName VirtualVmode PhysicalVmode  AsIs\n",
       "No.                               No.      integer       integer FALSE\n",
       "vendorid                     vendorid      integer       integer FALSE\n",
       "pickup_datetime       pickup_datetime      integer       integer FALSE\n",
       "dropoff_datetime     dropoff_datetime      integer       integer FALSE\n",
       "Store_and_fwd_flag Store_and_fwd_flag      integer       integer FALSE\n",
       "rate_code                   rate_code      integer       integer FALSE\n",
       "                   VirtualIsMatrix PhysicalIsMatrix PhysicalElementNo\n",
       "No.                          FALSE            FALSE                 1\n",
       "vendorid                     FALSE            FALSE                 2\n",
       "pickup_datetime              FALSE            FALSE                 3\n",
       "dropoff_datetime             FALSE            FALSE                 4\n",
       "Store_and_fwd_flag           FALSE            FALSE                 5\n",
       "rate_code                    FALSE            FALSE                 6\n",
       "                   PhysicalFirstCol PhysicalLastCol PhysicalIsOpen\n",
       "No.                               1               1           TRUE\n",
       "vendorid                          1               1           TRUE\n",
       "pickup_datetime                   1               1           TRUE\n",
       "dropoff_datetime                  1               1           TRUE\n",
       "Store_and_fwd_flag                1               1           TRUE\n",
       "rate_code                         1               1           TRUE\n",
       "ffdf data\n",
       "                          No.               vendorid        pickup_datetime\n",
       "1           1                 1                      03/12/2015 09:26:05 AM\n",
       "2           2                 1                      05/29/2015 03:27:07 AM\n",
       "3           3                 2                      11/24/2015 08:07:46 PM\n",
       "4           4                 2                      12/18/2015 06:46:25 PM\n",
       "5           5                 2                      09/22/2015 06:32:36 PM\n",
       "6           6                 2                      05/15/2015 08:42:44 PM\n",
       "7           7                 2                      09/02/2015 02:38:54 PM\n",
       "8           8                 2                      03/29/2015 04:56:26 AM\n",
       ":                           :                      :                      :\n",
       "99993   99993                 2                      03/03/2015 08:58:29 PM\n",
       "99994   99994                 2                      05/25/2015 06:39:02 AM\n",
       "99995   99995                 2                      05/13/2015 09:41:35 AM\n",
       "99996   99996                 2                      12/19/2015 06:52:30 PM\n",
       "99997   99997                 2                      03/04/2015 07:23:40 AM\n",
       "99998   99998                 1                      09/27/2015 04:37:39 PM\n",
       "99999   99999                 2                      08/09/2015 10:04:22 PM\n",
       "100000 100000                 2                      03/02/2015 11:56:28 AM\n",
       "             dropoff_datetime     Store_and_fwd_flag              rate_code\n",
       "1      03/12/2015 09:33:58 AM N                      1                     \n",
       "2      05/29/2015 03:45:28 AM N                      1                     \n",
       "3      11/24/2015 08:31:35 PM N                      1                     \n",
       "4      12/18/2015 06:53:06 PM N                      1                     \n",
       "5      09/22/2015 06:34:44 PM N                      1                     \n",
       "6      05/15/2015 08:56:03 PM N                      1                     \n",
       "7      09/02/2015 02:45:25 PM N                      1                     \n",
       "8      03/29/2015 05:36:26 AM N                      1                     \n",
       ":                           :                      :                      :\n",
       "99993  03/03/2015 09:05:20 PM N                      1                     \n",
       "99994  05/25/2015 06:46:46 AM N                      1                     \n",
       "99995  05/13/2015 10:19:43 AM N                      1                     \n",
       "99996  12/19/2015 06:58:51 PM N                      1                     \n",
       "99997  03/04/2015 08:11:20 AM N                      1                     \n",
       "99998  09/27/2015 04:48:41 PM N                      1                     \n",
       "99999  08/09/2015 10:14:36 PM N                      1                     \n",
       "100000 03/02/2015 11:57:09 AM N                      1                     "
      ]
     },
     "metadata": {},
     "output_type": "display_data"
    }
   ],
   "source": [
    "library(ff)\n",
    "taxi <- read.table.ffdf (file = \"taxi_hunderttausend.csv\", VERBOSE = T, header = TRUE, sep = \",\", dec = \".\", na.strings = \"NA\", first.rows = 100000, next.rows = 0) \n",
    "head(taxi)"
   ]
  },
  {
   "cell_type": "markdown",
   "metadata": {},
   "source": [
    "### Berechnungen mit ffdf-Objekten\n",
    "\n",
    "Mit ffdf-Objekten können nicht alle Berechnungen durchgeführt werden, die mit Dataframes möglich sind. Für Berechnungen mit ffdf-Objekten gibt gibt es verschieden Möglichkeiten:\n",
    "\n",
    "#### Möglichkeit 1: Umwandlung des ffdf-Objekts in ein tbl_ffdf-Objekt\n",
    "- Mit diesem können die meisten Berechnungen wie gewohnt durchgeführt werden.\n",
    "- Der Befehl tbl_ff() ist im Paket ffbase2 enthalten\n",
    " - Dieses ist jedoch (noch) nicht bei CRAN gelistet und muss von GitHub heruntergeladen werden."
   ]
  },
  {
   "cell_type": "code",
   "execution_count": null,
   "metadata": {
    "collapsed": true
   },
   "outputs": [],
   "source": [
    "install.packages(\"devtools\", repos=\"http://cran.rstudio.com/\")\n",
    "library(devtools)\n",
    "devtools::install_github(\"edwindj/ffbase2\")"
   ]
  },
  {
   "cell_type": "code",
   "execution_count": null,
   "metadata": {
    "collapsed": true
   },
   "outputs": [],
   "source": [
    "library(ffbase2)\n",
    "taxitbl <- tbl_ffdf(taxi)\n",
    "head(taxitbl)"
   ]
  },
  {
   "cell_type": "markdown",
   "metadata": {},
   "source": [
    "Damit können dann übliche Rechenoperationen durchgeführt werden."
   ]
  },
  {
   "cell_type": "code",
   "execution_count": null,
   "metadata": {
    "collapsed": true,
    "scrolled": true
   },
   "outputs": [],
   "source": [
    "#Einfache Rechnungen\n",
    "mean(taxitbl$vendorid)\n",
    "\n",
    "#Oder z.B. auch Decision Trees\n",
    "install.packages(\"party\", repos=\"http://cran.rstudio.com/\")\n",
    "library(party)\n",
    "\n",
    "tree <- ctree(Payment_type ~ Passenger_count + Trip_distance + Trip_type, data = taxitbl)\n",
    "plot(tree)"
   ]
  },
  {
   "cell_type": "markdown",
   "metadata": {},
   "source": [
    "#### Möglickeit 2: Verwendung von speziellen Befehlen und Paketen\n",
    "\n",
    "Für ffdf-Objekte existieren spezielle Befehle in verschiedenen Paketen. Hier einige Beispiele: \n",
    "- ffbase ermöglicht es u.a. grundlegende Befehle wie gewohnt zu verwenden sowie Subsets zu bilden.\n",
    "- Mit dem Befehl bigglm.ffdf aus dem Paket biglm können lineare Regression durchgeführt werden.\n",
    "- In ffbase2 sind die meisten dplyr-Befehle für ffdf-Objekte umgesetzt."
   ]
  },
  {
   "cell_type": "code",
   "execution_count": null,
   "metadata": {
    "collapsed": true
   },
   "outputs": [],
   "source": [
    "install.packages(\"ffbase\", repos=\"http://cran.rstudio.com/\")\n",
    "install.packages(\"biglm\", repos=\"http://cran.rstudio.com/\")"
   ]
  },
  {
   "cell_type": "code",
   "execution_count": null,
   "metadata": {
    "collapsed": true
   },
   "outputs": [],
   "source": [
    "library(ffbase)\n",
    "mean.ff(taxi$Tolls_amount)\n",
    "sum.ff(taxi$Total_amount)"
   ]
  },
  {
   "cell_type": "code",
   "execution_count": null,
   "metadata": {
    "collapsed": true
   },
   "outputs": [],
   "source": [
    "library(biglm)\n",
    "summary(bigglm.ffdf(Pickup_latitude ~ Pickup_longitude, data = taxi))"
   ]
  },
  {
   "cell_type": "markdown",
   "metadata": {},
   "source": [
    "#### Möglickeit 3: Analyse von Subsets als Dataframes\n",
    "\n",
    "Wenn nur bestimmte Fälle (z.B. innerhalb eines Zeitraums) oder nur bestimmt Variablen von Interesse sind, sind diese Teildatensätze oftmals klein genug um sie als Dataframes analysieren zu können."
   ]
  },
  {
   "cell_type": "code",
   "execution_count": null,
   "metadata": {
    "collapsed": true
   },
   "outputs": [],
   "source": [
    "taxi_credit_card <- data.frame(taxi[taxi$Payment_type==1])\n",
    "head(taxi_credit_card)\n",
    "dim(taxi_credit_card)\n",
    "object.size(taxi_credit_card)"
   ]
  },
  {
   "cell_type": "markdown",
   "metadata": {},
   "source": [
    "## Zusammenfassung\n",
    "\n",
    "### Nicht geeignet:\n",
    "SQL-Datenbanken\n",
    "\n",
    "SQLite\n",
    "\n",
    "hdf5-Dateien\n",
    "\n",
    "### Bedingt geeignet:\n",
    "Paket data.table (insb. der Befehl fread)\n",
    "- Schnellerer Import großer Dateien, die kleiner sind als der Arbeitsspeicher (z.B. 2 GB große CSV)\n",
    "\n",
    "Paket Big Memory\n",
    "- Import von Dateien, die kleiner sind als der Arbeitsspeicher, aber zu groß für read.csv()\n",
    "\n",
    "### Geeignet:\n",
    "Paket ff\n",
    "- Import von Dateien die maximal fünf mal so groß sind wie der Arbeitsspeicher\n",
    "- Jedoch: Lange Rechendauern und Analyse erst nach Umwandlung oder mit speziellen Befehlen  "
   ]
  },
  {
   "cell_type": "markdown",
   "metadata": {},
   "source": [
    "## Dokumentationen\n",
    "data.table: https://cran.r-project.org/web/packages/data.table/data.table.pdf\n",
    "\n",
    "bigmemory: https://cran.r-project.org/web/packages/bigmemory/bigmemory.pdf\n",
    "\n",
    "ff: https://cran.r-project.org/web/packages/ff/ff.pdf\n",
    "\n",
    "ffbase: https://cran.r-project.org/web/packages/ffbase/ffbase.pdf\n",
    "\n",
    "ffbase2: https://www.rdocumentation.org/packages/ffbase2/versions/0.2"
   ]
  }
 ],
 "metadata": {
  "kernelspec": {
   "display_name": "R",
   "language": "R",
   "name": "ir"
  },
  "language_info": {
   "codemirror_mode": "r",
   "file_extension": ".r",
   "mimetype": "text/x-r-source",
   "name": "R",
   "pygments_lexer": "r",
   "version": "3.4.2"
  }
 },
 "nbformat": 4,
 "nbformat_minor": 2
}
