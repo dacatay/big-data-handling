{
 "cells": [
  {
   "cell_type": "markdown",
   "metadata": {},
   "source": [
    "# Was ist PyTables?"
   ]
  },
  {
   "cell_type": "markdown",
   "metadata": {},
   "source": [
    "PyTables is a package for managing hierarchical datasets and designed to efficiently and easily cope with extremely large amounts of data. <br> <a href:'http://www.pytables.org/'> API </a>"
   ]
  },
  {
   "cell_type": "markdown",
   "metadata": {},
   "source": [
    "# Was sind 'hierarchical datasets'?"
   ]
  },
  {
   "cell_type": "markdown",
   "metadata": {},
   "source": [
    "PyTables arbeitet mit Daten im HDF5 Format. HDF5 ist ein Format von der HDF Group entwickelt und von ihnen auch gepflegt wird. HDF5 nutzt immer einen Namen als Speicher. in diesem Speicher kann man Gruppen anlegen und in jeder Gruppe die dazugehörigen Daten Speichern."
   ]
  },
  {
   "cell_type": "markdown",
   "metadata": {},
   "source": [
    "<img src='HDF5.jpg'>"
   ]
  },
  {
   "cell_type": "markdown",
   "metadata": {},
   "source": [
    "Die Daten im HDF Format können wie im Dask Beispiel mit Compression gespeichert werden."
   ]
  },
  {
   "cell_type": "markdown",
   "metadata": {},
   "source": [
    "# Unterschied zwischen Dask und PyTables"
   ]
  },
  {
   "cell_type": "markdown",
   "metadata": {},
   "source": [
    "PyTables ist für etwas ganz anderes als Dask konzipiert. Während Dask auf Pandas beruht und hauptsächlich für CSV und Excel Tabellen gedacht ist, ist PyTables auf das Speichern großer Datenmengen ausgerichtet.<br>\n",
    "Während Dask Spalten und Reihenweise Aufrufe ermöglich kann PyTables nur Spalte für Spalte iterieren.<br>\n",
    "Auch ist PyTables nicht flexibel wir Dask wo neue Spalten hinzugefügt werden können.<br>\n"
   ]
  },
  {
   "cell_type": "markdown",
   "metadata": {},
   "source": [
    "# Wofür brauche ich dann PyTables?"
   ]
  },
  {
   "cell_type": "markdown",
   "metadata": {},
   "source": [
    "PyTables soll zum Speichern von großen Datenmengen genutzt werden. Im HDF5 Format kann man auch eigene Datenformate erstellen. Die NASA speichert große Mengen an Daten im <a href='https://earthdata.nasa.gov/user-resources/standards-and-references/hdf5'> HDF-Format</a>. Auf Youtube gibt es Beispiele zum Analysieren von Finanzdaten mit Hilfe von PyTables. <a href='http://hilpisch.com/Big_Financial_Data.html#/'> Hier als Beispiel</a>\n",
    "\n"
   ]
  },
  {
   "cell_type": "code",
   "execution_count": 1,
   "metadata": {},
   "outputs": [
    {
     "data": {
      "text/html": [
       "<iframe width=\"560\" height=\"315\" src=\"https://www.youtube.com/embed/_JrZUm9ZHIw\" frameborder=\"0\" allowfullscreen></iframe>"
      ],
      "text/plain": [
       "<IPython.core.display.HTML object>"
      ]
     },
     "metadata": {},
     "output_type": "display_data"
    }
   ],
   "source": [
    "%%HTML\n",
    "<iframe width=\"560\" height=\"315\" src=\"https://www.youtube.com/embed/_JrZUm9ZHIw\" frameborder=\"0\" allowfullscreen></iframe>"
   ]
  },
  {
   "cell_type": "markdown",
   "metadata": {},
   "source": [
    "HDF5 und PyTables haben eine sehr steile Lernkurve, benötigen aber vorher ein bisschen Recherche und Zeit. Da ich den zeitlichen Rahmen nicht sprengen will, bleib ich bei einer kurzen Einführung."
   ]
  },
  {
   "cell_type": "markdown",
   "metadata": {},
   "source": [
    "## Beispiel"
   ]
  },
  {
   "cell_type": "markdown",
   "metadata": {},
   "source": [
    "Wir nehmen an wir haben einen Teilchenbeschleuniger und wollen die gemessenen Partikel speichern.\n",
    "name = Name<br>\n",
    "idnumber = id <br>\n",
    "ADC+TDCcount = Zeiten in Bit Format<br>\n",
    "grid_i+j= Positionen im Raum<br>\n",
    "pressure + energy = Druck im Raum Energie + des Partikel<br>\n",
    "Der Aufbau ähnelt dem einer Datenbank\n"
   ]
  },
  {
   "cell_type": "code",
   "execution_count": 30,
   "metadata": {
    "collapsed": true
   },
   "outputs": [],
   "source": [
    "from tables import *\n",
    "class Particle(IsDescription):\n",
    "    name      = StringCol(16)   # 16-character String\n",
    "    idnumber  = Int64Col()      # Signed 64-bit integer\n",
    "    ADCcount  = UInt16Col()     # Unsigned short integer\n",
    "    TDCcount  = UInt8Col()      # unsigned byte\n",
    "    grid_i    = Int32Col()      # 32-bit integer\n",
    "    grid_j    = Int32Col()      # 32-bit integer\n",
    "    pressure  = Float32Col()    # float  (single-precision)\n",
    "    energy    = Float64Col()    # double (double-precision)"
   ]
  },
  {
   "cell_type": "markdown",
   "metadata": {},
   "source": [
    "Erstellen einer Datei im HDF5 Format. Dateiname = tutorial1, Selbstbeschreibung = Test file"
   ]
  },
  {
   "cell_type": "code",
   "execution_count": 31,
   "metadata": {
    "collapsed": true
   },
   "outputs": [],
   "source": [
    "h5file = open_file(\"tutorial1.h5\", mode = \"w\", title = \"Test file\")"
   ]
  },
  {
   "cell_type": "markdown",
   "metadata": {},
   "source": [
    "Erstellen einer Gruppe in der Datei. Name = detector, Selbstbeschreibung = Detector Information"
   ]
  },
  {
   "cell_type": "code",
   "execution_count": 32,
   "metadata": {
    "collapsed": true
   },
   "outputs": [],
   "source": [
    "group = h5file.create_group(\"/\", 'detector', 'Detector information')"
   ]
  },
  {
   "cell_type": "markdown",
   "metadata": {},
   "source": [
    "Erstellen einer Tabelle in der Gruppe detector. Name = readout Selbstbeschreibung = Readout example"
   ]
  },
  {
   "cell_type": "code",
   "execution_count": 33,
   "metadata": {
    "collapsed": true
   },
   "outputs": [],
   "source": [
    "table = h5file.create_table(group, 'readout', Particle, \"Readout example\")"
   ]
  },
  {
   "cell_type": "code",
   "execution_count": 34,
   "metadata": {},
   "outputs": [
    {
     "data": {
      "text/plain": [
       "File(filename=tutorial1.h5, title='Test file', mode='w', root_uep='/', filters=Filters(complevel=0, shuffle=False, fletcher32=False, least_significant_digit=None))\n",
       "/ (RootGroup) 'Test file'\n",
       "/detector (Group) 'Detector information'\n",
       "/detector/readout (Table(0,)) 'Readout example'\n",
       "  description := {\n",
       "  \"ADCcount\": UInt16Col(shape=(), dflt=0, pos=0),\n",
       "  \"TDCcount\": UInt8Col(shape=(), dflt=0, pos=1),\n",
       "  \"energy\": Float64Col(shape=(), dflt=0.0, pos=2),\n",
       "  \"grid_i\": Int32Col(shape=(), dflt=0, pos=3),\n",
       "  \"grid_j\": Int32Col(shape=(), dflt=0, pos=4),\n",
       "  \"idnumber\": Int64Col(shape=(), dflt=0, pos=5),\n",
       "  \"name\": StringCol(itemsize=16, shape=(), dflt=b'', pos=6),\n",
       "  \"pressure\": Float32Col(shape=(), dflt=0.0, pos=7)}\n",
       "  byteorder := 'little'\n",
       "  chunkshape := (1394,)"
      ]
     },
     "execution_count": 34,
     "metadata": {},
     "output_type": "execute_result"
    }
   ],
   "source": [
    "h5file"
   ]
  },
  {
   "cell_type": "markdown",
   "metadata": {},
   "source": [
    "Zuweisung das particle einer Spalte in der Tabelle entspricht"
   ]
  },
  {
   "cell_type": "code",
   "execution_count": 35,
   "metadata": {},
   "outputs": [
    {
     "data": {
      "text/plain": [
       "/detector/readout.row (Row), pointing to row #0"
      ]
     },
     "execution_count": 35,
     "metadata": {},
     "output_type": "execute_result"
    }
   ],
   "source": [
    "particle = table.row\n",
    "particle"
   ]
  },
  {
   "cell_type": "markdown",
   "metadata": {},
   "source": [
    "Zuweisungen zu den Spalten<br>\n",
    "append Speichert die Datei im Arbeitsspeicher an die Tabelle"
   ]
  },
  {
   "cell_type": "code",
   "execution_count": 36,
   "metadata": {
    "collapsed": true
   },
   "outputs": [],
   "source": [
    "for i in range(10):\n",
    "    particle['name']  = 'Particle: %6d' % (i)\n",
    "    particle['TDCcount'] = i % 256\n",
    "    particle['ADCcount'] = (i * 256) % (1 << 16)\n",
    "    particle['grid_i'] = i\n",
    "    particle['grid_j'] = 10 - i\n",
    "    particle['pressure'] = float(i*i)\n",
    "    particle['energy'] = float(particle['pressure'] ** 4)\n",
    "    particle['idnumber'] = i * (2 ** 34)\n",
    "    # Insert a new particle record\n",
    "    particle.append()"
   ]
  },
  {
   "cell_type": "markdown",
   "metadata": {},
   "source": [
    "flush speichert die Datei auf der Festplatte und gibt den belegten Platz im Arbeitsspeicher frei"
   ]
  },
  {
   "cell_type": "code",
   "execution_count": 37,
   "metadata": {},
   "outputs": [],
   "source": [
    "table.flush()"
   ]
  },
  {
   "cell_type": "code",
   "execution_count": 38,
   "metadata": {},
   "outputs": [
    {
     "data": {
      "text/plain": [
       "File(filename=tutorial1.h5, title='Test file', mode='w', root_uep='/', filters=Filters(complevel=0, shuffle=False, fletcher32=False, least_significant_digit=None))\n",
       "/ (RootGroup) 'Test file'\n",
       "/detector (Group) 'Detector information'\n",
       "/detector/readout (Table(10,)) 'Readout example'\n",
       "  description := {\n",
       "  \"ADCcount\": UInt16Col(shape=(), dflt=0, pos=0),\n",
       "  \"TDCcount\": UInt8Col(shape=(), dflt=0, pos=1),\n",
       "  \"energy\": Float64Col(shape=(), dflt=0.0, pos=2),\n",
       "  \"grid_i\": Int32Col(shape=(), dflt=0, pos=3),\n",
       "  \"grid_j\": Int32Col(shape=(), dflt=0, pos=4),\n",
       "  \"idnumber\": Int64Col(shape=(), dflt=0, pos=5),\n",
       "  \"name\": StringCol(itemsize=16, shape=(), dflt=b'', pos=6),\n",
       "  \"pressure\": Float32Col(shape=(), dflt=0.0, pos=7)}\n",
       "  byteorder := 'little'\n",
       "  chunkshape := (1394,)"
      ]
     },
     "execution_count": 38,
     "metadata": {},
     "output_type": "execute_result"
    }
   ],
   "source": [
    "h5file"
   ]
  },
  {
   "cell_type": "markdown",
   "metadata": {},
   "source": [
    "alle Daten zu der Tabelle sind auch einzeln Aufrufbar"
   ]
  },
  {
   "cell_type": "code",
   "execution_count": 39,
   "metadata": {},
   "outputs": [
    {
     "name": "stdout",
     "output_type": "stream",
     "text": [
      "Spalten:\n",
      "['ADCcount', 'TDCcount', 'energy', 'grid_i', 'grid_j', 'idnumber', 'name', 'pressure']\n",
      "Datentypen:\n",
      "{'ADCcount': 'uint16', 'TDCcount': 'uint8', 'energy': 'float64', 'grid_i': 'int32', 'grid_j': 'int32', 'idnumber': 'int64', 'name': 'string', 'pressure': 'float32'}\n",
      "Anzahl Reihen:\n",
      "10\n"
     ]
    }
   ],
   "source": [
    "print('Spalten:')\n",
    "print(table.colnames)\n",
    "print('Datentypen:')\n",
    "print(table.coltypes)\n",
    "print('Anzahl Reihen:')\n",
    "print(table.nrows)"
   ]
  },
  {
   "cell_type": "markdown",
   "metadata": {},
   "source": [
    "Filter nach x['TDCcount'] > 3 and 20 <= x['pressure'] < 50]"
   ]
  },
  {
   "cell_type": "code",
   "execution_count": 40,
   "metadata": {},
   "outputs": [
    {
     "data": {
      "text/plain": [
       "[25.0, 36.0, 49.0]"
      ]
     },
     "execution_count": 40,
     "metadata": {},
     "output_type": "execute_result"
    }
   ],
   "source": [
    "table = h5file.root.detector.readout\n",
    "pressure = [x['pressure'] for x in table.iterrows() if x['TDCcount'] > 3 and 20 <= x['pressure'] < 50]\n",
    "pressure"
   ]
  },
  {
   "cell_type": "code",
   "execution_count": 41,
   "metadata": {},
   "outputs": [
    {
     "data": {
      "text/plain": [
       "[b'Particle:      5', b'Particle:      6', b'Particle:      7']"
      ]
     },
     "execution_count": 41,
     "metadata": {},
     "output_type": "execute_result"
    }
   ],
   "source": [
    "table = h5file.root.detector.readout\n",
    "name = [x['name'] for x in table.iterrows() if x['TDCcount'] > 3 and 20 <= x['pressure'] < 50]\n",
    "name"
   ]
  },
  {
   "cell_type": "markdown",
   "metadata": {},
   "source": [
    "Filter auf Bedingung"
   ]
  },
  {
   "cell_type": "code",
   "execution_count": 42,
   "metadata": {},
   "outputs": [
    {
     "name": "stdout",
     "output_type": "stream",
     "text": [
      "(1280, 5,  390625., 5, 5, 85899345920, b'Particle:      5',  25.)\n"
     ]
    }
   ],
   "source": [
    "for record in table.where(\"pressure == 25.0\"):\n",
    "    print(record.fetch_all_fields())\n",
    "    "
   ]
  },
  {
   "cell_type": "markdown",
   "metadata": {},
   "source": [
    "## Arrays"
   ]
  },
  {
   "cell_type": "code",
   "execution_count": 15,
   "metadata": {},
   "outputs": [
    {
     "data": {
      "text/plain": [
       "File(filename=tutorial1.h5, title='Test file', mode='w', root_uep='/', filters=Filters(complevel=0, shuffle=False, fletcher32=False, least_significant_digit=None))\n",
       "/ (RootGroup) 'Test file'\n",
       "/columns (Group) 'Pressure and Name'\n",
       "/detector (Group) 'Detector information'\n",
       "/detector/readout (Table(10,)) 'Readout example'\n",
       "  description := {\n",
       "  \"ADCcount\": UInt16Col(shape=(), dflt=0, pos=0),\n",
       "  \"TDCcount\": UInt8Col(shape=(), dflt=0, pos=1),\n",
       "  \"energy\": Float64Col(shape=(), dflt=0.0, pos=2),\n",
       "  \"grid_i\": Int32Col(shape=(), dflt=0, pos=3),\n",
       "  \"grid_j\": Int32Col(shape=(), dflt=0, pos=4),\n",
       "  \"idnumber\": Int64Col(shape=(), dflt=0, pos=5),\n",
       "  \"name\": StringCol(itemsize=16, shape=(), dflt=b'', pos=6),\n",
       "  \"pressure\": Float32Col(shape=(), dflt=0.0, pos=7)}\n",
       "  byteorder := 'little'\n",
       "  chunkshape := (1394,)"
      ]
     },
     "execution_count": 15,
     "metadata": {},
     "output_type": "execute_result"
    }
   ],
   "source": [
    "gcolumns = h5file.create_group(h5file.root, \"columns\", \"Pressure and Name\")\n",
    "h5file"
   ]
  },
  {
   "cell_type": "code",
   "execution_count": 16,
   "metadata": {},
   "outputs": [
    {
     "data": {
      "text/plain": [
       "/columns/pressure (Array(3,)) 'Pressure column selection'\n",
       "  atom := Float64Atom(shape=(), dflt=0.0)\n",
       "  maindim := 0\n",
       "  flavor := 'python'\n",
       "  byteorder := 'little'\n",
       "  chunkshape := None"
      ]
     },
     "execution_count": 16,
     "metadata": {},
     "output_type": "execute_result"
    }
   ],
   "source": [
    "h5file.create_array(gcolumns, 'pressure', pressure, \"Pressure column selection\")"
   ]
  },
  {
   "cell_type": "code",
   "execution_count": 17,
   "metadata": {},
   "outputs": [
    {
     "data": {
      "text/plain": [
       "/columns/name (Array(3,)) 'Name column selection'\n",
       "  atom := StringAtom(itemsize=16, shape=(), dflt=b'')\n",
       "  maindim := 0\n",
       "  flavor := 'python'\n",
       "  byteorder := 'irrelevant'\n",
       "  chunkshape := None"
      ]
     },
     "execution_count": 17,
     "metadata": {},
     "output_type": "execute_result"
    }
   ],
   "source": [
    "h5file.create_array(gcolumns, 'name', name, \"Name column selection\")"
   ]
  },
  {
   "cell_type": "code",
   "execution_count": 18,
   "metadata": {},
   "outputs": [
    {
     "data": {
      "text/plain": [
       "File(filename=tutorial1.h5, title='Test file', mode='w', root_uep='/', filters=Filters(complevel=0, shuffle=False, fletcher32=False, least_significant_digit=None))\n",
       "/ (RootGroup) 'Test file'\n",
       "/columns (Group) 'Pressure and Name'\n",
       "/columns/name (Array(3,)) 'Name column selection'\n",
       "  atom := StringAtom(itemsize=16, shape=(), dflt=b'')\n",
       "  maindim := 0\n",
       "  flavor := 'python'\n",
       "  byteorder := 'irrelevant'\n",
       "  chunkshape := None\n",
       "/columns/pressure (Array(3,)) 'Pressure column selection'\n",
       "  atom := Float64Atom(shape=(), dflt=0.0)\n",
       "  maindim := 0\n",
       "  flavor := 'python'\n",
       "  byteorder := 'little'\n",
       "  chunkshape := None\n",
       "/detector (Group) 'Detector information'\n",
       "/detector/readout (Table(10,)) 'Readout example'\n",
       "  description := {\n",
       "  \"ADCcount\": UInt16Col(shape=(), dflt=0, pos=0),\n",
       "  \"TDCcount\": UInt8Col(shape=(), dflt=0, pos=1),\n",
       "  \"energy\": Float64Col(shape=(), dflt=0.0, pos=2),\n",
       "  \"grid_i\": Int32Col(shape=(), dflt=0, pos=3),\n",
       "  \"grid_j\": Int32Col(shape=(), dflt=0, pos=4),\n",
       "  \"idnumber\": Int64Col(shape=(), dflt=0, pos=5),\n",
       "  \"name\": StringCol(itemsize=16, shape=(), dflt=b'', pos=6),\n",
       "  \"pressure\": Float32Col(shape=(), dflt=0.0, pos=7)}\n",
       "  byteorder := 'little'\n",
       "  chunkshape := (1394,)"
      ]
     },
     "execution_count": 18,
     "metadata": {},
     "output_type": "execute_result"
    }
   ],
   "source": [
    "h5file"
   ]
  },
  {
   "cell_type": "markdown",
   "metadata": {},
   "source": [
    "Walk_groups ermöglicht es alle Gruppen im Speicher zu besuchen und list_nodes alle Knoten in einem Speicher"
   ]
  },
  {
   "cell_type": "code",
   "execution_count": 19,
   "metadata": {},
   "outputs": [
    {
     "name": "stdout",
     "output_type": "stream",
     "text": [
      "/columns/name (Array(3,)) 'Name column selection'\n",
      "/columns/pressure (Array(3,)) 'Pressure column selection'\n"
     ]
    }
   ],
   "source": [
    "for group in h5file.walk_groups(\"/\"):\n",
    "    for array in h5file.list_nodes(group, classname='Array'):\n",
    "        print(array)"
   ]
  },
  {
   "cell_type": "markdown",
   "metadata": {
    "collapsed": true
   },
   "source": [
    "lese Werte der Arrays aus"
   ]
  },
  {
   "cell_type": "code",
   "execution_count": 21,
   "metadata": {},
   "outputs": [
    {
     "data": {
      "text/plain": [
       "[25.0, 36.0, 49.0]"
      ]
     },
     "execution_count": 21,
     "metadata": {},
     "output_type": "execute_result"
    }
   ],
   "source": [
    "pressureObject = h5file.get_node(\"/columns\", \"pressure\")\n",
    "pressureArray = pressureObject.read()\n",
    "pressureArray"
   ]
  },
  {
   "cell_type": "code",
   "execution_count": 22,
   "metadata": {},
   "outputs": [
    {
     "data": {
      "text/plain": [
       "[b'Particle:      5', b'Particle:      6', b'Particle:      7']"
      ]
     },
     "execution_count": 22,
     "metadata": {},
     "output_type": "execute_result"
    }
   ],
   "source": [
    "nameArray = h5file.root.columns.name.read()\n",
    "nameArray"
   ]
  },
  {
   "cell_type": "markdown",
   "metadata": {},
   "source": [
    "Beispiel um die Arrays zu lesen"
   ]
  },
  {
   "cell_type": "code",
   "execution_count": 23,
   "metadata": {},
   "outputs": [
    {
     "name": "stdout",
     "output_type": "stream",
     "text": [
      "b'Particle:      5' --> 25.0\n",
      "b'Particle:      6' --> 36.0\n",
      "b'Particle:      7' --> 49.0\n"
     ]
    }
   ],
   "source": [
    "for i in range(pressureObject.shape[0]):\n",
    "    print(nameArray[i], \"-->\", pressureArray[i])"
   ]
  },
  {
   "cell_type": "markdown",
   "metadata": {},
   "source": [
    "## Modify your Data"
   ]
  },
  {
   "cell_type": "code",
   "execution_count": 24,
   "metadata": {},
   "outputs": [
    {
     "name": "stdout",
     "output_type": "stream",
     "text": [
      "(0, 0,  0., 0, 10, 0, b'Particle:      0',  0.)\n",
      "(256, 1,  1., 1, 9, 17179869184, b'Particle:      1',  1.)\n",
      "(512, 2,  256., 2, 8, 34359738368, b'Particle:      2',  4.)\n",
      "(768, 3,  6561., 3, 7, 51539607552, b'Particle:      3',  9.)\n",
      "(1024, 4,  65536., 4, 6, 68719476736, b'Particle:      4',  16.)\n",
      "(1280, 5,  390625., 5, 5, 85899345920, b'Particle:      5',  25.)\n",
      "(1536, 6,  1679616., 6, 4, 103079215104, b'Particle:      6',  36.)\n",
      "(1792, 7,  5764801., 7, 3, 120259084288, b'Particle:      7',  49.)\n",
      "(2048, 8,  16777216., 8, 2, 137438953472, b'Particle:      8',  64.)\n",
      "(2304, 9,  43046721., 9, 1, 154618822656, b'Particle:      9',  81.)\n"
     ]
    }
   ],
   "source": [
    "for r in table.iterrows():\n",
    "    print(r.fetch_all_fields())"
   ]
  },
  {
   "cell_type": "markdown",
   "metadata": {},
   "source": [
    "Hinter energy wird die Spalte angegeben"
   ]
  },
  {
   "cell_type": "code",
   "execution_count": 25,
   "metadata": {},
   "outputs": [
    {
     "name": "stdout",
     "output_type": "stream",
     "text": [
      "(0, 0,  0., 0, 10, 0, b'Particle:      0',  0.)\n",
      "(256, 1,  1., 1, 9, 17179869184, b'Particle:      1',  1.)\n",
      "(512, 2,  2., 2, 8, 34359738368, b'Particle:      2',  4.)\n",
      "(768, 3,  6561., 3, 7, 51539607552, b'Particle:      3',  9.)\n",
      "(1024, 4,  65536., 4, 6, 68719476736, b'Particle:      4',  16.)\n",
      "(1280, 5,  390625., 5, 5, 85899345920, b'Particle:      5',  25.)\n",
      "(1536, 6,  1679616., 6, 4, 103079215104, b'Particle:      6',  36.)\n",
      "(1792, 7,  5764801., 7, 3, 120259084288, b'Particle:      7',  49.)\n",
      "(2048, 8,  16777216., 8, 2, 137438953472, b'Particle:      8',  64.)\n",
      "(2304, 9,  43046721., 9, 1, 154618822656, b'Particle:      9',  81.)\n"
     ]
    }
   ],
   "source": [
    "table.cols.energy[2] = 2\n",
    "for r in table.iterrows():\n",
    "    print(r.fetch_all_fields())"
   ]
  },
  {
   "cell_type": "markdown",
   "metadata": {},
   "source": [
    "step ist der Abstand zwischen den bearbeiteten Daten"
   ]
  },
  {
   "cell_type": "code",
   "execution_count": 26,
   "metadata": {},
   "outputs": [
    {
     "name": "stdout",
     "output_type": "stream",
     "text": [
      "(0, 0,  0., 0, 10, 0, b'Particle:      0',  0.)\n",
      "(1, 2,  3., 4, 5, 6, b'Particle:   None',  8.)\n",
      "(512, 2,  2., 2, 8, 34359738368, b'Particle:      2',  4.)\n",
      "(768, 3,  6561., 3, 7, 51539607552, b'Particle:      3',  9.)\n",
      "(2, 4,  6., 8, 10, 12, b'Particle: None*2',  16.)\n",
      "(1280, 5,  390625., 5, 5, 85899345920, b'Particle:      5',  25.)\n",
      "(1536, 6,  1679616., 6, 4, 103079215104, b'Particle:      6',  36.)\n",
      "(1792, 7,  5764801., 7, 3, 120259084288, b'Particle:      7',  49.)\n",
      "(2048, 8,  16777216., 8, 2, 137438953472, b'Particle:      8',  64.)\n",
      "(2304, 9,  43046721., 9, 1, 154618822656, b'Particle:      9',  81.)\n"
     ]
    }
   ],
   "source": [
    "table.modify_rows(start=1, step=3,rows=[(1, 2, 3.0, 4, 5, 6, 'Particle:   None', 8.0),(2, 4, 6.0, 8, 10, 12, 'Particle: None*2', 16.0)])\n",
    "for r in table.iterrows():\n",
    "    print(r.fetch_all_fields())"
   ]
  },
  {
   "cell_type": "code",
   "execution_count": 27,
   "metadata": {
    "collapsed": true
   },
   "outputs": [],
   "source": [
    "h5file.close()"
   ]
  },
  {
   "cell_type": "markdown",
   "metadata": {},
   "source": [
    "close schliesst die Datei und andere können darauf zugreifen. Solange sie noch offen ist kann kein anderer zugreifen.<br>\n",
    "Mit dem Tool ViTables kann man sich die Informationen anschauen wie ein DataFrame"
   ]
  },
  {
   "cell_type": "markdown",
   "metadata": {},
   "source": [
    "<img src='ViTable.png'>"
   ]
  },
  {
   "cell_type": "markdown",
   "metadata": {},
   "source": [
    "## Pandas und HDF"
   ]
  },
  {
   "cell_type": "markdown",
   "metadata": {},
   "source": [
    "Angeben von Dateiname und dem Pfad drunter<br>\n",
    "Funktioniert nur mit Tables nicht mit Arrays"
   ]
  },
  {
   "cell_type": "code",
   "execution_count": 43,
   "metadata": {},
   "outputs": [
    {
     "data": {
      "text/html": [
       "<div>\n",
       "<style>\n",
       "    .dataframe thead tr:only-child th {\n",
       "        text-align: right;\n",
       "    }\n",
       "\n",
       "    .dataframe thead th {\n",
       "        text-align: left;\n",
       "    }\n",
       "\n",
       "    .dataframe tbody tr th {\n",
       "        vertical-align: top;\n",
       "    }\n",
       "</style>\n",
       "<table border=\"1\" class=\"dataframe\">\n",
       "  <thead>\n",
       "    <tr style=\"text-align: right;\">\n",
       "      <th></th>\n",
       "      <th>ADCcount</th>\n",
       "      <th>TDCcount</th>\n",
       "      <th>energy</th>\n",
       "      <th>grid_i</th>\n",
       "      <th>grid_j</th>\n",
       "      <th>idnumber</th>\n",
       "      <th>name</th>\n",
       "      <th>pressure</th>\n",
       "    </tr>\n",
       "  </thead>\n",
       "  <tbody>\n",
       "    <tr>\n",
       "      <th>0</th>\n",
       "      <td>0</td>\n",
       "      <td>0</td>\n",
       "      <td>0.0</td>\n",
       "      <td>0</td>\n",
       "      <td>10</td>\n",
       "      <td>0</td>\n",
       "      <td>Particle:      0</td>\n",
       "      <td>0.0</td>\n",
       "    </tr>\n",
       "    <tr>\n",
       "      <th>1</th>\n",
       "      <td>256</td>\n",
       "      <td>1</td>\n",
       "      <td>1.0</td>\n",
       "      <td>1</td>\n",
       "      <td>9</td>\n",
       "      <td>17179869184</td>\n",
       "      <td>Particle:      1</td>\n",
       "      <td>1.0</td>\n",
       "    </tr>\n",
       "    <tr>\n",
       "      <th>2</th>\n",
       "      <td>512</td>\n",
       "      <td>2</td>\n",
       "      <td>256.0</td>\n",
       "      <td>2</td>\n",
       "      <td>8</td>\n",
       "      <td>34359738368</td>\n",
       "      <td>Particle:      2</td>\n",
       "      <td>4.0</td>\n",
       "    </tr>\n",
       "    <tr>\n",
       "      <th>3</th>\n",
       "      <td>768</td>\n",
       "      <td>3</td>\n",
       "      <td>6561.0</td>\n",
       "      <td>3</td>\n",
       "      <td>7</td>\n",
       "      <td>51539607552</td>\n",
       "      <td>Particle:      3</td>\n",
       "      <td>9.0</td>\n",
       "    </tr>\n",
       "    <tr>\n",
       "      <th>4</th>\n",
       "      <td>1024</td>\n",
       "      <td>4</td>\n",
       "      <td>65536.0</td>\n",
       "      <td>4</td>\n",
       "      <td>6</td>\n",
       "      <td>68719476736</td>\n",
       "      <td>Particle:      4</td>\n",
       "      <td>16.0</td>\n",
       "    </tr>\n",
       "    <tr>\n",
       "      <th>5</th>\n",
       "      <td>1280</td>\n",
       "      <td>5</td>\n",
       "      <td>390625.0</td>\n",
       "      <td>5</td>\n",
       "      <td>5</td>\n",
       "      <td>85899345920</td>\n",
       "      <td>Particle:      5</td>\n",
       "      <td>25.0</td>\n",
       "    </tr>\n",
       "    <tr>\n",
       "      <th>6</th>\n",
       "      <td>1536</td>\n",
       "      <td>6</td>\n",
       "      <td>1679616.0</td>\n",
       "      <td>6</td>\n",
       "      <td>4</td>\n",
       "      <td>103079215104</td>\n",
       "      <td>Particle:      6</td>\n",
       "      <td>36.0</td>\n",
       "    </tr>\n",
       "    <tr>\n",
       "      <th>7</th>\n",
       "      <td>1792</td>\n",
       "      <td>7</td>\n",
       "      <td>5764801.0</td>\n",
       "      <td>7</td>\n",
       "      <td>3</td>\n",
       "      <td>120259084288</td>\n",
       "      <td>Particle:      7</td>\n",
       "      <td>49.0</td>\n",
       "    </tr>\n",
       "    <tr>\n",
       "      <th>8</th>\n",
       "      <td>2048</td>\n",
       "      <td>8</td>\n",
       "      <td>16777216.0</td>\n",
       "      <td>8</td>\n",
       "      <td>2</td>\n",
       "      <td>137438953472</td>\n",
       "      <td>Particle:      8</td>\n",
       "      <td>64.0</td>\n",
       "    </tr>\n",
       "    <tr>\n",
       "      <th>9</th>\n",
       "      <td>2304</td>\n",
       "      <td>9</td>\n",
       "      <td>43046721.0</td>\n",
       "      <td>9</td>\n",
       "      <td>1</td>\n",
       "      <td>154618822656</td>\n",
       "      <td>Particle:      9</td>\n",
       "      <td>81.0</td>\n",
       "    </tr>\n",
       "  </tbody>\n",
       "</table>\n",
       "</div>"
      ],
      "text/plain": [
       "   ADCcount  TDCcount      energy  grid_i  grid_j      idnumber  \\\n",
       "0         0         0         0.0       0      10             0   \n",
       "1       256         1         1.0       1       9   17179869184   \n",
       "2       512         2       256.0       2       8   34359738368   \n",
       "3       768         3      6561.0       3       7   51539607552   \n",
       "4      1024         4     65536.0       4       6   68719476736   \n",
       "5      1280         5    390625.0       5       5   85899345920   \n",
       "6      1536         6   1679616.0       6       4  103079215104   \n",
       "7      1792         7   5764801.0       7       3  120259084288   \n",
       "8      2048         8  16777216.0       8       2  137438953472   \n",
       "9      2304         9  43046721.0       9       1  154618822656   \n",
       "\n",
       "               name  pressure  \n",
       "0  Particle:      0       0.0  \n",
       "1  Particle:      1       1.0  \n",
       "2  Particle:      2       4.0  \n",
       "3  Particle:      3       9.0  \n",
       "4  Particle:      4      16.0  \n",
       "5  Particle:      5      25.0  \n",
       "6  Particle:      6      36.0  \n",
       "7  Particle:      7      49.0  \n",
       "8  Particle:      8      64.0  \n",
       "9  Particle:      9      81.0  "
      ]
     },
     "execution_count": 43,
     "metadata": {},
     "output_type": "execute_result"
    }
   ],
   "source": [
    "import pandas as pd\n",
    "df = pd.read_hdf('tutorial1.h5', 'detector/readout')\n",
    "df"
   ]
  }
 ],
 "metadata": {
  "kernelspec": {
   "display_name": "Python 3",
   "language": "python",
   "name": "python3"
  },
  "language_info": {
   "codemirror_mode": {
    "name": "ipython",
    "version": 3
   },
   "file_extension": ".py",
   "mimetype": "text/x-python",
   "name": "python",
   "nbconvert_exporter": "python",
   "pygments_lexer": "ipython3",
   "version": "3.6.1"
  }
 },
 "nbformat": 4,
 "nbformat_minor": 2
}
